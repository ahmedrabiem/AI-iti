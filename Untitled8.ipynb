{
  "nbformat": 4,
  "nbformat_minor": 0,
  "metadata": {
    "colab": {
      "provenance": [],
      "authorship_tag": "ABX9TyN8n7IE/CAxh59CLyg0l4Of",
      "include_colab_link": true
    },
    "kernelspec": {
      "name": "python3",
      "display_name": "Python 3"
    },
    "language_info": {
      "name": "python"
    }
  },
  "cells": [
    {
      "cell_type": "markdown",
      "metadata": {
        "id": "view-in-github",
        "colab_type": "text"
      },
      "source": [
        "<a href=\"https://colab.research.google.com/github/ahmedrabiem/AI-iti/blob/main/Untitled8.ipynb\" target=\"_parent\"><img src=\"https://colab.research.google.com/assets/colab-badge.svg\" alt=\"Open In Colab\"/></a>"
      ]
    },
    {
      "cell_type": "markdown",
      "source": [
        "Q1"
      ],
      "metadata": {
        "id": "peiF9PA9ujrC"
      }
    },
    {
      "cell_type": "code",
      "execution_count": 41,
      "metadata": {
        "colab": {
          "base_uri": "https://localhost:8080/"
        },
        "id": "Cp43TxXzkijP",
        "outputId": "eeda3db3-02fa-4a19-d384-37c7a3c51077"
      },
      "outputs": [
        {
          "name": "stdout",
          "output_type": "stream",
          "text": [
            "pls enter fir number3\n",
            "pls enter sec number4\n",
            "pls enter th number5\n"
          ]
        }
      ],
      "source": [
        "num1=int(input(\"pls enter fir number\"))\n",
        "num2=int(input(\"pls enter sec number\"))\n",
        "num3=int(input(\"pls enter th number\"))"
      ]
    },
    {
      "cell_type": "code",
      "source": [
        "print(num1+num2)\n",
        "print(num3-num1)\n",
        "print(num1*num2+num3)\n",
        "print(num1*(num2+num3))\n",
        "print(num3/num1)\n",
        "print(num3//num1)\n",
        "print(num3%num1)"
      ],
      "metadata": {
        "colab": {
          "base_uri": "https://localhost:8080/"
        },
        "id": "RlkXzk3ytP_b",
        "outputId": "78a3419c-054c-4ca0-aeb2-0be6165e026e"
      },
      "execution_count": 42,
      "outputs": [
        {
          "output_type": "stream",
          "name": "stdout",
          "text": [
            "7\n",
            "2\n",
            "17\n",
            "27\n",
            "1.6666666666666667\n",
            "1\n",
            "2\n"
          ]
        }
      ]
    },
    {
      "cell_type": "code",
      "source": [
        "num1f=float(num1)\n",
        "num2f=float(num2)\n",
        "num3f=float(num3)\n",
        "\n",
        "print(type(num1f))\n",
        "print(type(num2f))\n",
        "print(type(num3f))"
      ],
      "metadata": {
        "colab": {
          "base_uri": "https://localhost:8080/"
        },
        "id": "UbAkHPWErHsJ",
        "outputId": "b6f6183d-60f2-4d07-edbb-6111a1287fe2"
      },
      "execution_count": 33,
      "outputs": [
        {
          "output_type": "stream",
          "name": "stdout",
          "text": [
            "<class 'float'>\n",
            "<class 'float'>\n",
            "<class 'float'>\n"
          ]
        }
      ]
    },
    {
      "cell_type": "markdown",
      "source": [
        "Q2"
      ],
      "metadata": {
        "id": "cCp9dXQwunyJ"
      }
    },
    {
      "cell_type": "code",
      "source": [
        "x,y,z,g = 1,2,3,4\n",
        "print(x+y*z/g)\n",
        "print(y**z)"
      ],
      "metadata": {
        "colab": {
          "base_uri": "https://localhost:8080/"
        },
        "id": "V-Yk_nhmmAFs",
        "outputId": "15c3ee54-e5a6-4368-8748-22383403200e"
      },
      "execution_count": 7,
      "outputs": [
        {
          "output_type": "stream",
          "name": "stdout",
          "text": [
            "2.5\n",
            "8\n"
          ]
        }
      ]
    },
    {
      "cell_type": "markdown",
      "source": [
        "Q3"
      ],
      "metadata": {
        "id": "tNwCLLKOurVC"
      }
    },
    {
      "cell_type": "code",
      "source": [
        "str_a = \"Python \"\n",
        "str_b = \" is a \"\n",
        "str_c = \" times fun language \"\n",
        "num = 1000\n",
        "str_ab=str_a +str_b + str(num) + str_c\n",
        "print(str_ab)"
      ],
      "metadata": {
        "colab": {
          "base_uri": "https://localhost:8080/"
        },
        "id": "y-mpt2CJojJp",
        "outputId": "5c4f3d97-d112-444c-e167-3e7b5163a251"
      },
      "execution_count": 11,
      "outputs": [
        {
          "output_type": "stream",
          "name": "stdout",
          "text": [
            "Python  is a 1000 times fun language \n"
          ]
        }
      ]
    },
    {
      "cell_type": "markdown",
      "source": [
        "Q1"
      ],
      "metadata": {
        "id": "Q997N_yyuumQ"
      }
    },
    {
      "cell_type": "code",
      "source": [
        "num = int(input(\"pls nter num: \"))\n",
        "if num % 2 == 0:\n",
        "    print(\"even\")\n",
        "else:\n",
        "    print(\"odd\")"
      ],
      "metadata": {
        "colab": {
          "base_uri": "https://localhost:8080/"
        },
        "id": "sOw_WEi9pcRN",
        "outputId": "a9fdc828-a581-4121-fbce-5bf59325c3b2"
      },
      "execution_count": 36,
      "outputs": [
        {
          "output_type": "stream",
          "name": "stdout",
          "text": [
            "pls nter num: 56\n",
            "even\n"
          ]
        }
      ]
    },
    {
      "cell_type": "markdown",
      "source": [
        "Q2"
      ],
      "metadata": {
        "id": "1OKu_aFHuxTy"
      }
    },
    {
      "cell_type": "code",
      "source": [
        "score = int(input(\"pls enter your grad: \"))\n",
        "if score >= 50:\n",
        "    print(\"pass\")\n",
        "else:\n",
        "    print(\"fail\")"
      ],
      "metadata": {
        "colab": {
          "base_uri": "https://localhost:8080/"
        },
        "id": "OS5948xrqLsi",
        "outputId": "331cf9ba-fbee-492a-9eaa-6ee31b8feefa"
      },
      "execution_count": 25,
      "outputs": [
        {
          "output_type": "stream",
          "name": "stdout",
          "text": [
            "pls enter your grad: 78\n",
            "pass\n"
          ]
        }
      ]
    },
    {
      "cell_type": "markdown",
      "source": [
        "Q3"
      ],
      "metadata": {
        "id": "3Noe-14puzBq"
      }
    },
    {
      "cell_type": "code",
      "source": [
        "a = int(input(\"enter fir num: \"))\n",
        "b = int(input(\"enter sec num: \"))\n",
        "c = int(input(\"enter thi num: \"))\n",
        "print(max(a, b, c))"
      ],
      "metadata": {
        "colab": {
          "base_uri": "https://localhost:8080/"
        },
        "id": "l7bXC5w9qeRV",
        "outputId": "ddcf2d8e-a0ea-4d1b-a939-64e468758e98"
      },
      "execution_count": 35,
      "outputs": [
        {
          "output_type": "stream",
          "name": "stdout",
          "text": [
            "enter fir num: 324\n",
            "enter sec num: 65\n",
            "enter thi num: 36456\n",
            "36456\n"
          ]
        }
      ]
    },
    {
      "cell_type": "markdown",
      "source": [
        "Q4"
      ],
      "metadata": {
        "id": "4pWskME1u0yT"
      }
    },
    {
      "cell_type": "code",
      "source": [
        "for i in range(1, 11):\n",
        "    print(i)"
      ],
      "metadata": {
        "colab": {
          "base_uri": "https://localhost:8080/"
        },
        "id": "F0rDGAG-qzX1",
        "outputId": "da1e82c0-8ab2-4f1d-cee0-e1192b5636b6"
      },
      "execution_count": 17,
      "outputs": [
        {
          "output_type": "stream",
          "name": "stdout",
          "text": [
            "1\n",
            "2\n",
            "3\n",
            "4\n",
            "5\n",
            "6\n",
            "7\n",
            "8\n",
            "9\n",
            "10\n"
          ]
        }
      ]
    },
    {
      "cell_type": "markdown",
      "source": [
        "Q5"
      ],
      "metadata": {
        "id": "uphyl5knu2bh"
      }
    },
    {
      "cell_type": "code",
      "source": [
        "score = int(input(\"pls enter your grade: \"))\n",
        "if 90 <= score <= 100:\n",
        "    print(\"grade: A\")\n",
        "elif 80 <= score <= 89:\n",
        "    print(\"grade: B\")\n",
        "elif 70 <= score <= 79:\n",
        "    print(\"grade: C\")\n",
        "elif 60 <= score <= 69:\n",
        "    print(\"grade: D\")\n",
        "else:\n",
        "    print(\"grade: F\")\n"
      ],
      "metadata": {
        "colab": {
          "base_uri": "https://localhost:8080/"
        },
        "id": "wNNGyz4JrCcI",
        "outputId": "dd1d926a-b87e-4a67-caae-7c52dcb13589"
      },
      "execution_count": 21,
      "outputs": [
        {
          "output_type": "stream",
          "name": "stdout",
          "text": [
            "pls enter your grade: 98\n",
            "grade: A\n"
          ]
        }
      ]
    },
    {
      "cell_type": "markdown",
      "source": [
        "Q6"
      ],
      "metadata": {
        "id": "YBGBdXXmu6CS"
      }
    },
    {
      "cell_type": "code",
      "source": [
        "num = int(input(\"pls enter num: \"))\n",
        "for i in range(1, 11):\n",
        "    print(f\"{num} x {i} = {num*i}\")"
      ],
      "metadata": {
        "colab": {
          "base_uri": "https://localhost:8080/"
        },
        "id": "KnSMSFLdrimy",
        "outputId": "a75168ef-adc5-4918-a397-031834e80193"
      },
      "execution_count": 24,
      "outputs": [
        {
          "output_type": "stream",
          "name": "stdout",
          "text": [
            "pls enter num: 12\n",
            "12 x 1 = 12\n",
            "12 x 2 = 24\n",
            "12 x 3 = 36\n",
            "12 x 4 = 48\n",
            "12 x 5 = 60\n",
            "12 x 6 = 72\n",
            "12 x 7 = 84\n",
            "12 x 8 = 96\n",
            "12 x 9 = 108\n",
            "12 x 10 = 120\n"
          ]
        }
      ]
    },
    {
      "cell_type": "markdown",
      "source": [
        "Q7"
      ],
      "metadata": {
        "id": "2xMa41kau8aZ"
      }
    },
    {
      "cell_type": "code",
      "source": [
        "x = 0\n",
        "for i in range(1, 51):\n",
        "    if i%2== 0:\n",
        "        x+= i\n",
        "print(x)"
      ],
      "metadata": {
        "colab": {
          "base_uri": "https://localhost:8080/"
        },
        "id": "OpPAufaurwtP",
        "outputId": "9888aaf1-37c3-4c74-80a1-bd824a982ee7"
      },
      "execution_count": 28,
      "outputs": [
        {
          "output_type": "stream",
          "name": "stdout",
          "text": [
            "650\n"
          ]
        }
      ]
    },
    {
      "cell_type": "markdown",
      "source": [
        "Q8"
      ],
      "metadata": {
        "id": "ng2GzHXJu99J"
      }
    },
    {
      "cell_type": "code",
      "source": [
        "n = int(input(\"enter num: \"))\n",
        "fact =1\n",
        "i=1\n",
        "while i <= n:\n",
        "    fact *= i\n",
        "    i += 1\n",
        "print(fact)"
      ],
      "metadata": {
        "colab": {
          "base_uri": "https://localhost:8080/"
        },
        "id": "WW-Jz6xMsXS6",
        "outputId": "1945ce5b-4fd4-4670-f8b5-333e3b999619"
      },
      "execution_count": 34,
      "outputs": [
        {
          "output_type": "stream",
          "name": "stdout",
          "text": [
            "enter num: 4\n",
            "24\n"
          ]
        }
      ]
    },
    {
      "cell_type": "code",
      "source": [],
      "metadata": {
        "id": "BO7kVhLKsv5v"
      },
      "execution_count": null,
      "outputs": []
    }
  ]
}