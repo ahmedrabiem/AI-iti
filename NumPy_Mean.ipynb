{
  "nbformat": 4,
  "nbformat_minor": 0,
  "metadata": {
    "colab": {
      "provenance": [],
      "gpuType": "T4",
      "authorship_tag": "ABX9TyM0UKHOGyGbqom9syicmihk",
      "include_colab_link": true
    },
    "kernelspec": {
      "name": "python3",
      "display_name": "Python 3"
    },
    "language_info": {
      "name": "python"
    },
    "accelerator": "GPU"
  },
  "cells": [
    {
      "cell_type": "markdown",
      "metadata": {
        "id": "view-in-github",
        "colab_type": "text"
      },
      "source": [
        "<a href=\"https://colab.research.google.com/github/ahmedrabiem/AI-iti/blob/main/NumPy_Mean.ipynb\" target=\"_parent\"><img src=\"https://colab.research.google.com/assets/colab-badge.svg\" alt=\"Open In Colab\"/></a>"
      ]
    },
    {
      "cell_type": "markdown",
      "source": [
        "# 1. Manual vs NumPy Mean"
      ],
      "metadata": {
        "id": "_YsNbhJAJ2si"
      }
    },
    {
      "cell_type": "code",
      "execution_count": 11,
      "metadata": {
        "colab": {
          "base_uri": "https://localhost:8080/"
        },
        "id": "m1vr5wXIJFRW",
        "outputId": "e78e7a8c-6cc8-4668-e5fd-8aaf59d56a1f"
      },
      "outputs": [
        {
          "output_type": "execute_result",
          "data": {
            "text/plain": [
              "(20.5, np.float64(20.5))"
            ]
          },
          "metadata": {},
          "execution_count": 11
        }
      ],
      "source": [
        "import numpy as np\n",
        "\n",
        "ages = [18, 21, 20, 19, 22, 23, 20, 21, 22, 19]\n",
        "manual_mean = sum(ages) / len(ages)\n",
        "numpy_mean = np.mean(ages)\n",
        "\n",
        "manual_mean, numpy_mean"
      ]
    },
    {
      "cell_type": "markdown",
      "source": [
        "# 2. Median Without Sorting Function"
      ],
      "metadata": {
        "id": "6Tw4e8EmKBDD"
      }
    },
    {
      "cell_type": "code",
      "source": [
        "import random\n",
        "\n",
        "data_random = [random.randint(10, 50) for _ in range(15)]\n",
        "sorted_data = sorted(data_random)\n",
        "n = len(sorted_data)\n",
        "\n",
        "if n % 2 == 0:\n",
        "    manual_median = (sorted_data[n//2 - 1] + sorted_data[n//2]) / 2\n",
        "else:\n",
        "    manual_median = sorted_data[n//2]\n",
        "\n",
        "numpy_median = np.median(data_random)\n",
        "\n",
        "data_random, manual_median, numpy_median"
      ],
      "metadata": {
        "colab": {
          "base_uri": "https://localhost:8080/"
        },
        "id": "8b68lvXMJ-dN",
        "outputId": "a2cb6a64-ea55-420a-fbcb-7c59665287eb"
      },
      "execution_count": 15,
      "outputs": [
        {
          "output_type": "execute_result",
          "data": {
            "text/plain": [
              "([11, 21, 37, 38, 17, 26, 12, 45, 16, 45, 32, 42, 18, 21, 48],\n",
              " 26,\n",
              " np.float64(26.0))"
            ]
          },
          "metadata": {},
          "execution_count": 15
        }
      ]
    },
    {
      "cell_type": "markdown",
      "source": [
        "# 3. Range and Data Spread\n"
      ],
      "metadata": {
        "id": "9tlQXV2IKHOE"
      }
    },
    {
      "cell_type": "code",
      "source": [
        "manual_min = min(data_random)\n",
        "manual_max = max(data_random)\n",
        "manual_range = manual_max - manual_min\n",
        "\n",
        "numpy_min = np.min(data_random)\n",
        "numpy_max = np.max(data_random)\n",
        "numpy_range = numpy_max - numpy_min\n",
        "\n",
        "manual_min, manual_max, manual_range, numpy_min, numpy_max, numpy_range"
      ],
      "metadata": {
        "colab": {
          "base_uri": "https://localhost:8080/"
        },
        "id": "_mSY1r8rKE7E",
        "outputId": "779ddfc9-f995-4b76-fafc-2f835d5532e3"
      },
      "execution_count": 17,
      "outputs": [
        {
          "output_type": "execute_result",
          "data": {
            "text/plain": [
              "(11, 48, 37, np.int64(11), np.int64(48), np.int64(37))"
            ]
          },
          "metadata": {},
          "execution_count": 17
        }
      ]
    },
    {
      "cell_type": "markdown",
      "source": [
        "# 4. Variance & Standard Deviation"
      ],
      "metadata": {
        "id": "Vt32iB8pKMeV"
      }
    },
    {
      "cell_type": "code",
      "source": [
        "data = [5, 7, 3, 7, 9, 10, 15, 7]\n",
        "\n",
        "mean_val = sum(data) / len(data)\n",
        "manual_variance = sum((x - mean_val) ** 2 for x in data) / len(data)\n",
        "manual_std = manual_variance ** 0.5\n",
        "\n",
        "numpy_variance = np.var(data)\n",
        "numpy_std = np.std(data)\n",
        "\n",
        "manual_variance, numpy_variance, manual_std, numpy_std"
      ],
      "metadata": {
        "colab": {
          "base_uri": "https://localhost:8080/"
        },
        "id": "V6lSrHmaKL0N",
        "outputId": "7b7a7ba0-86aa-47e9-a3d9-22d349c62836"
      },
      "execution_count": 19,
      "outputs": [
        {
          "output_type": "execute_result",
          "data": {
            "text/plain": [
              "(11.359375,\n",
              " np.float64(11.359375),\n",
              " 3.370367190678191,\n",
              " np.float64(3.370367190678191))"
            ]
          },
          "metadata": {},
          "execution_count": 19
        }
      ]
    },
    {
      "cell_type": "markdown",
      "source": [
        "# 5. Quartiles & IQR"
      ],
      "metadata": {
        "id": "fOUEceeeKctK"
      }
    },
    {
      "cell_type": "code",
      "source": [
        "dataset = [7, 8, 5, 6, 3, 4, 9, 12, 15, 14]\n",
        "q1 = np.percentile(dataset, 25)\n",
        "q2 = np.percentile(dataset, 50)\n",
        "q3 = np.percentile(dataset, 75)\n",
        "iqr = q3 - q1\n",
        "\n",
        "q1, q2, q3, iqr"
      ],
      "metadata": {
        "colab": {
          "base_uri": "https://localhost:8080/"
        },
        "id": "xk6wUEB8KRm3",
        "outputId": "28edaa46-5b8d-425b-b7c5-d88b5fd5d254"
      },
      "execution_count": 21,
      "outputs": [
        {
          "output_type": "execute_result",
          "data": {
            "text/plain": [
              "(np.float64(5.25), np.float64(7.5), np.float64(11.25), np.float64(6.0))"
            ]
          },
          "metadata": {},
          "execution_count": 21
        }
      ]
    },
    {
      "cell_type": "markdown",
      "source": [
        "# 6. Z-Score Normalization"
      ],
      "metadata": {
        "id": "HUBEhQBKKpjD"
      }
    },
    {
      "cell_type": "code",
      "source": [
        "values = [10, 12, 14, 16, 18, 20]\n",
        "mean_v = sum(values) / len(values)\n",
        "std_v = (sum((x - mean_v) ** 2 for x in values) / len(values)) ** 0.5\n",
        "z_scores = [(x - mean_v) / std_v for x in values]\n",
        "\n",
        "z_scores"
      ],
      "metadata": {
        "colab": {
          "base_uri": "https://localhost:8080/"
        },
        "id": "NEecxGw6Kh6-",
        "outputId": "cd147eab-31cc-4454-c099-6746d2d5bb47"
      },
      "execution_count": 23,
      "outputs": [
        {
          "output_type": "execute_result",
          "data": {
            "text/plain": [
              "[-1.4638501094227998,\n",
              " -0.8783100656536799,\n",
              " -0.29277002188455997,\n",
              " 0.29277002188455997,\n",
              " 0.8783100656536799,\n",
              " 1.4638501094227998]"
            ]
          },
          "metadata": {},
          "execution_count": 23
        }
      ]
    },
    {
      "cell_type": "markdown",
      "source": [
        "# 7. Moving Average"
      ],
      "metadata": {
        "id": "L9-6Om_jKwXc"
      }
    },
    {
      "cell_type": "code",
      "source": [
        "numbers = [random.randint(1, 100) for _ in range(20)]\n",
        "window_size = 3\n",
        "moving_avg_manual = [sum(numbers[i:i+window_size]) / window_size for i in range(len(numbers)-window_size+1)]\n",
        "moving_avg_numpy = np.convolve(numbers, np.ones(window_size)/window_size, mode='valid')\n",
        "\n",
        "numbers, moving_avg_manual, moving_avg_numpy"
      ],
      "metadata": {
        "colab": {
          "base_uri": "https://localhost:8080/"
        },
        "id": "omhFI5TTKuDa",
        "outputId": "42bad0e5-b63f-4fda-e0aa-96382ea88d67"
      },
      "execution_count": 26,
      "outputs": [
        {
          "output_type": "execute_result",
          "data": {
            "text/plain": [
              "([87,\n",
              "  83,\n",
              "  6,\n",
              "  41,\n",
              "  40,\n",
              "  2,\n",
              "  28,\n",
              "  75,\n",
              "  53,\n",
              "  90,\n",
              "  100,\n",
              "  54,\n",
              "  34,\n",
              "  21,\n",
              "  71,\n",
              "  14,\n",
              "  34,\n",
              "  68,\n",
              "  30,\n",
              "  34],\n",
              " [58.666666666666664,\n",
              "  43.333333333333336,\n",
              "  29.0,\n",
              "  27.666666666666668,\n",
              "  23.333333333333332,\n",
              "  35.0,\n",
              "  52.0,\n",
              "  72.66666666666667,\n",
              "  81.0,\n",
              "  81.33333333333333,\n",
              "  62.666666666666664,\n",
              "  36.333333333333336,\n",
              "  42.0,\n",
              "  35.333333333333336,\n",
              "  39.666666666666664,\n",
              "  38.666666666666664,\n",
              "  44.0,\n",
              "  44.0],\n",
              " array([58.66666667, 43.33333333, 29.        , 27.66666667, 23.33333333,\n",
              "        35.        , 52.        , 72.66666667, 81.        , 81.33333333,\n",
              "        62.66666667, 36.33333333, 42.        , 35.33333333, 39.66666667,\n",
              "        38.66666667, 44.        , 44.        ]))"
            ]
          },
          "metadata": {},
          "execution_count": 26
        }
      ]
    },
    {
      "cell_type": "markdown",
      "source": [
        "# 8. Outlier Detection (IQR method)"
      ],
      "metadata": {
        "id": "-lDwBVj6K21u"
      }
    },
    {
      "cell_type": "code",
      "source": [
        "nums = list(range(1, 26)) + [300, 400]\n",
        "q1 = np.percentile(nums, 25)\n",
        "q3 = np.percentile(nums, 75)\n",
        "iqr = q3 - q1\n",
        "lower_bound = q1 - 1.5 * iqr\n",
        "upper_bound = q3 + 1.5 * iqr\n",
        "outliers = [x for x in nums if x < lower_bound or x > upper_bound]\n",
        "\n",
        "nums, outliers"
      ],
      "metadata": {
        "colab": {
          "base_uri": "https://localhost:8080/"
        },
        "id": "FnH9FQqSK0XE",
        "outputId": "85441d98-3ed4-4876-fea0-4e89eeb7f1a2"
      },
      "execution_count": 29,
      "outputs": [
        {
          "output_type": "execute_result",
          "data": {
            "text/plain": [
              "([1,\n",
              "  2,\n",
              "  3,\n",
              "  4,\n",
              "  5,\n",
              "  6,\n",
              "  7,\n",
              "  8,\n",
              "  9,\n",
              "  10,\n",
              "  11,\n",
              "  12,\n",
              "  13,\n",
              "  14,\n",
              "  15,\n",
              "  16,\n",
              "  17,\n",
              "  18,\n",
              "  19,\n",
              "  20,\n",
              "  21,\n",
              "  22,\n",
              "  23,\n",
              "  24,\n",
              "  25,\n",
              "  300,\n",
              "  400],\n",
              " [300, 400])"
            ]
          },
          "metadata": {},
          "execution_count": 29
        }
      ]
    },
    {
      "cell_type": "code",
      "source": [],
      "metadata": {
        "id": "kDjOINYOK7B6"
      },
      "execution_count": null,
      "outputs": []
    }
  ]
}